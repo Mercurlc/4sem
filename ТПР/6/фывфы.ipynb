{
 "cells": [
  {
   "cell_type": "code",
   "execution_count": 4,
   "id": "initial_id",
   "metadata": {
    "collapsed": true,
    "ExecuteTime": {
     "end_time": "2024-05-12T11:35:57.181042800Z",
     "start_time": "2024-05-12T11:35:57.165326700Z"
    }
   },
   "outputs": [
    {
     "name": "stdout",
     "output_type": "stream",
     "text": [
      "Максимальная прибыль: 1675.0\n",
      "Распределение производства: [125.    0.  112.5]\n"
     ]
    }
   ],
   "source": [
    "import numpy as np\n",
    "\n",
    "def simplex(c, A, b):\n",
    "    nrows, ncols = A.shape\n",
    "    tableau = np.zeros((nrows + 1, ncols + nrows + 1))\n",
    "    tableau[:nrows, :ncols] = A\n",
    "    tableau[:nrows, ncols:ncols + nrows] = np.eye(nrows)\n",
    "    tableau[:nrows, -1] = b\n",
    "    tableau[-1, :ncols] = -np.array(c)\n",
    "\n",
    "    basis = list(range(ncols, ncols + nrows))\n",
    "    while any(tableau[-1, :-1] < 0):\n",
    "        col = np.argmin(tableau[-1, :-1])\n",
    "        ratios = [tableau[i, -1] / tableau[i, col] if tableau[i, col] > 0 else float('inf') for i in range(nrows)]\n",
    "        row = np.argmin(ratios)\n",
    "        pivot = tableau[row, col]\n",
    "        tableau[row, :] /= pivot\n",
    "        for i in range(nrows + 1):\n",
    "            if i != row:\n",
    "                tableau[i, :] -= tableau[i, col] * tableau[row, :]\n",
    "        basis[row] = col\n",
    "                \n",
    "    solution = np.zeros(ncols)  \n",
    "    for i, b_col in enumerate(basis):\n",
    "        if b_col < ncols:\n",
    "            solution[b_col] = tableau[i, -1]\n",
    "    return tableau[-1, -1], solution\n",
    "\n",
    "c = [8, 7, 6]\n",
    "A = np.array([\n",
    " [2, 3, 4],\n",
    " [1, 4, 5],\n",
    " [3, 4, 2]\n",
    "])\n",
    "b = [700, 800, 600]\n",
    "\n",
    "optimal_value, solution = simplex(c, A, b)\n",
    "print(\"Максимальная прибыль:\", optimal_value)\n",
    "print(\"Распределение производства:\", solution)"
   ]
  },
  {
   "cell_type": "code",
   "outputs": [
    {
     "data": {
      "text/plain": "1675.0"
     },
     "execution_count": 5,
     "metadata": {},
     "output_type": "execute_result"
    }
   ],
   "source": [
    "D = np.array([\n",
    " [4, 0, 2],\n",
    " [5, 1, 1],\n",
    " [2, 0, 3]\n",
    "])\n",
    "c = np.array([6, 0, 8])\n",
    "D_inv = np.linalg.inv(D)\n",
    "\n",
    "y = c.dot(D_inv)\n",
    "gmin = b*y\n",
    "gmin.sum()"
   ],
   "metadata": {
    "collapsed": false,
    "ExecuteTime": {
     "end_time": "2024-05-12T11:35:57.200015300Z",
     "start_time": "2024-05-12T11:35:57.177054Z"
    }
   },
   "id": "7f4418b3a16f345a",
   "execution_count": 5
  },
  {
   "cell_type": "code",
   "outputs": [
    {
     "name": "stdout",
     "output_type": "stream",
     "text": [
      "[ 0.25 -0.    2.5 ]\n"
     ]
    }
   ],
   "source": [
    "import numpy as np\n",
    "\n",
    "y = np.linalg.solve(D.T, c)\n",
    "\n",
    "print(y)"
   ],
   "metadata": {
    "collapsed": false,
    "ExecuteTime": {
     "end_time": "2024-05-12T11:35:57.201012400Z",
     "start_time": "2024-05-12T11:35:57.186471600Z"
    }
   },
   "id": "ad6e936360fe48ab",
   "execution_count": 6
  },
  {
   "cell_type": "code",
   "outputs": [
    {
     "name": "stdout",
     "output_type": "stream",
     "text": [
      "Интервал устойчивости для ресурса 1: [450.0, 1150.0]\n",
      "Интервал устойчивости для ресурса 2: [687.5, inf]\n",
      "Интервал устойчивости для ресурса 3: [300.0, 1100.0]\n",
      "500.0\n",
      "112.5 1250.0 3037.5\n"
     ]
    }
   ],
   "source": [
    "import numpy as np\n",
    "\n",
    "indices = np.array([112.5, 112.5, 125])\n",
    "\n",
    "b = np.array([700, 800, 600])\n",
    "\n",
    "# Ресурс 1\n",
    "positive_mask = D_inv[:, 2] > 0\n",
    "negative_mask = D_inv[:, 2] < 0\n",
    "delta_b1_min = max(abs((indices[positive_mask] / D_inv[positive_mask, 2])))\n",
    "delta_b1_max = max(abs((indices[negative_mask] / D_inv[negative_mask, 2])))\n",
    "b1_interval = [b[0] - delta_b1_min, b[0] + delta_b1_max]\n",
    "\n",
    "# Ресурс 2\n",
    "positive_mask = D_inv[:, 1] > 0\n",
    "if np.any(positive_mask): \n",
    "    delta_b2_min = -1 * max((indices[positive_mask] / D_inv[positive_mask, 1]))\n",
    "else:\n",
    "    delta_b2_min = float('inf') \n",
    "b2_interval = [b[1] + delta_b2_min, np.inf]\n",
    "\n",
    "# Ресурс 3\n",
    "positive_mask = D_inv[:, 0] > 0\n",
    "negative_mask = D_inv[:, 0] < 0\n",
    "delta_b3_min = max(abs((indices[positive_mask] / D_inv[positive_mask, 0])))\n",
    "delta_b3_max = max(abs((indices[negative_mask] / D_inv[negative_mask, 0])))\n",
    "\n",
    "b3_interval = [b[2] - delta_b3_min, b[2] + delta_b3_max]\n",
    "\n",
    "print(f\"Интервал устойчивости для ресурса 1: {b1_interval}\")\n",
    "print(f\"Интервал устойчивости для ресурса 2: {b2_interval}\")\n",
    "print(f\"Интервал устойчивости для ресурса 3: {b3_interval}\")\n",
    "g1= y[0] * delta_b1_max\n",
    "g2 = y[2] * delta_b3_max\n",
    "print(delta_b3_max)\n",
    "gmax = optimal_value+g1+g2\n",
    "\n",
    "print(g1, g2, gmax)"
   ],
   "metadata": {
    "collapsed": false,
    "ExecuteTime": {
     "end_time": "2024-05-12T11:54:36.525495100Z",
     "start_time": "2024-05-12T11:54:36.520140800Z"
    }
   },
   "id": "6eb324ef31590773",
   "execution_count": 36
  },
  {
   "cell_type": "code",
   "outputs": [
    {
     "ename": "AssertionError",
     "evalue": "Expected 5, got 2",
     "output_type": "error",
     "traceback": [
      "\u001B[1;31m---------------------------------------------------------------------------\u001B[0m",
      "\u001B[1;31mAssertionError\u001B[0m                            Traceback (most recent call last)",
      "Cell \u001B[1;32mIn[15], line 69\u001B[0m\n\u001B[0;32m     66\u001B[0m         \u001B[38;5;28mprint\u001B[39m(\u001B[38;5;124mf\u001B[39m\u001B[38;5;124m\"\u001B[39m\u001B[38;5;124mTest case: [\u001B[39m\u001B[38;5;132;01m{\u001B[39;00m\u001B[38;5;124m'\u001B[39m\u001B[38;5;124m, \u001B[39m\u001B[38;5;124m'\u001B[39m\u001B[38;5;241m.\u001B[39mjoin(actions)\u001B[38;5;132;01m}\u001B[39;00m\u001B[38;5;124m] passed with results: \u001B[39m\u001B[38;5;132;01m{\u001B[39;00mresults\u001B[38;5;132;01m}\u001B[39;00m\u001B[38;5;124m\"\u001B[39m)\n\u001B[0;32m     68\u001B[0m \u001B[38;5;66;03m# Run the test function\u001B[39;00m\n\u001B[1;32m---> 69\u001B[0m \u001B[43mtest\u001B[49m\u001B[43m(\u001B[49m\u001B[43m)\u001B[49m\n",
      "Cell \u001B[1;32mIn[15], line 59\u001B[0m, in \u001B[0;36mtest\u001B[1;34m()\u001B[0m\n\u001B[0;32m     57\u001B[0m \u001B[38;5;28;01mtry\u001B[39;00m:\n\u001B[0;32m     58\u001B[0m     result \u001B[38;5;241m=\u001B[39m \u001B[38;5;28meval\u001B[39m(\u001B[38;5;124mf\u001B[39m\u001B[38;5;124m'\u001B[39m\u001B[38;5;124mo.\u001B[39m\u001B[38;5;132;01m{\u001B[39;00maction\u001B[38;5;132;01m}\u001B[39;00m\u001B[38;5;124m()\u001B[39m\u001B[38;5;124m'\u001B[39m)\n\u001B[1;32m---> 59\u001B[0m     \u001B[38;5;28;01massert\u001B[39;00m result \u001B[38;5;241m==\u001B[39m exp, \u001B[38;5;124mf\u001B[39m\u001B[38;5;124m\"\u001B[39m\u001B[38;5;124mExpected \u001B[39m\u001B[38;5;132;01m{\u001B[39;00mexp\u001B[38;5;132;01m}\u001B[39;00m\u001B[38;5;124m, got \u001B[39m\u001B[38;5;132;01m{\u001B[39;00mresult\u001B[38;5;132;01m}\u001B[39;00m\u001B[38;5;124m\"\u001B[39m\n\u001B[0;32m     60\u001B[0m     results\u001B[38;5;241m.\u001B[39mappend(result)\n\u001B[0;32m     61\u001B[0m \u001B[38;5;28;01mexcept\u001B[39;00m MealyError \u001B[38;5;28;01mas\u001B[39;00m me:\n",
      "\u001B[1;31mAssertionError\u001B[0m: Expected 5, got 2"
     ]
    }
   ],
   "source": [
    "class MealyError(Exception):\n",
    "    def __init__(self, method_name):\n",
    "        super().__init__(f\"Method '{method_name}' not allowed\")\n",
    "\n",
    "class MealyMachine:\n",
    "    def __init__(self):\n",
    "        self.state = 'A'\n",
    "\n",
    "    def step(self):\n",
    "        if self.state == 'A':\n",
    "            self.state = 'B'\n",
    "            return 0\n",
    "        elif self.state == 'B':\n",
    "            self.state = 'C'\n",
    "            return 2\n",
    "        elif self.state == 'C':\n",
    "            self.state = 'D'\n",
    "            return 5\n",
    "        else:\n",
    "            raise MealyError('step')\n",
    "\n",
    "    def drag(self):\n",
    "        if self.state == 'B':\n",
    "            self.state = 'A'\n",
    "            return 3\n",
    "        elif self.state == 'E':\n",
    "            self.state = 'F'\n",
    "            return 7\n",
    "        else:\n",
    "            raise MealyError('drag')\n",
    "\n",
    "    def color(self):\n",
    "        if self.state == 'A':\n",
    "            self.state = 'E'\n",
    "            return 1\n",
    "        elif self.state == 'D':\n",
    "            self.state = 'E'\n",
    "            return 6\n",
    "        elif self.state == 'F':\n",
    "            return 8\n",
    "        else:\n",
    "            raise MealyError('color')\n",
    "\n",
    "def main():\n",
    "    return MealyMachine()\n",
    "\n",
    "def test():\n",
    "    test_cases = [\n",
    "        (\"step,drag,step,step,color,drag,color,drag,color,color,color\", [0, 3, 0, 5, 6, \"MealyError\", 8, \"MealyError\", 8, 8, 8])\n",
    "    ]\n",
    "\n",
    "    for actions, expected in test_cases:\n",
    "        o = main()\n",
    "        results = []\n",
    "        actions = actions.split(',')\n",
    "        for action, exp in zip(actions, expected):\n",
    "            try:\n",
    "                result = eval(f'o.{action}()')\n",
    "                assert result == exp, f\"Expected {exp}, got {result}\"\n",
    "                results.append(result)\n",
    "            except MealyError as me:\n",
    "                if exp == \"MealyError\":\n",
    "                    results.append(\"MealyError\")\n",
    "                else:\n",
    "                    raise AssertionError(f\"Unexpected MealyError during {action}\")\n",
    "        print(f\"Test case: [{', '.join(actions)}] passed with results: {results}\")\n",
    "\n",
    "# Run the test function\n",
    "test()\n"
   ],
   "metadata": {
    "collapsed": false,
    "ExecuteTime": {
     "end_time": "2024-05-12T15:18:09.720208500Z",
     "start_time": "2024-05-12T15:18:09.683803600Z"
    }
   },
   "id": "3a64629a5cd0481e",
   "execution_count": 15
  },
  {
   "cell_type": "code",
   "outputs": [],
   "source": [],
   "metadata": {
    "collapsed": false
   },
   "id": "4b54b91fd32750e2"
  }
 ],
 "metadata": {
  "kernelspec": {
   "display_name": "Python 3",
   "language": "python",
   "name": "python3"
  },
  "language_info": {
   "codemirror_mode": {
    "name": "ipython",
    "version": 2
   },
   "file_extension": ".py",
   "mimetype": "text/x-python",
   "name": "python",
   "nbconvert_exporter": "python",
   "pygments_lexer": "ipython2",
   "version": "2.7.6"
  }
 },
 "nbformat": 4,
 "nbformat_minor": 5
}
