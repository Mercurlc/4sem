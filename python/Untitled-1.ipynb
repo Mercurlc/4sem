{
 "cells": [
  {
   "cell_type": "code",
   "execution_count": 21,
   "metadata": {},
   "outputs": [
    {
     "data": {
      "text/plain": [
       "19"
      ]
     },
     "execution_count": 21,
     "metadata": {},
     "output_type": "execute_result"
    }
   ],
   "source": [
    "def main(I):\n",
    "    T={(abs(i)+i%3) for i in I if i>-79 and i <52}\n",
    "    D={abs(i) for i in I if i<31 and i >=-78}\n",
    "    X={2*d for d in D if d>=-87 or d<-3}\n",
    "    O={(t%3 - x^3) for t in T for x in X if t>x}\n",
    "    return len({(x, o) for x in X for o in O}) + sum(o%2 for o in O)\n",
    "main({34, 35, -62, 42, -52, -17, 25, 58, 31})"
   ]
  },
  {
   "cell_type": "code",
   "execution_count": 23,
   "metadata": {},
   "outputs": [
    {
     "name": "stdout",
     "output_type": "stream",
     "text": [
      "Результат: 9\n",
      "Результат 2: 5\n"
     ]
    }
   ],
   "source": [
    "def main(l):\n",
    "    if l[0] == 'RAGEL':\n",
    "        return x2(l, 'RAGEL')  # Передаем ветку 'RAGEL'\n",
    "    elif l[0] == 'METAL':\n",
    "        return x1(l, 'METAL')  # Передаем ветку 'METAL'\n",
    "\n",
    "def x2(l, branch):\n",
    "    if l[2] == 2003:\n",
    "        return x3(l, branch)  # Передаем ветку в x3\n",
    "    else:\n",
    "        return 4\n",
    "\n",
    "def x3(l, branch):\n",
    "    if branch == 'RAGEL':  # Ветвление зависит от переданного branch\n",
    "        if l[3] == 1977:\n",
    "            return x4(l)\n",
    "        else:\n",
    "            return 3\n",
    "    elif branch == 'METAL':\n",
    "        if l[3] == 1970:\n",
    "            return 9\n",
    "        else:\n",
    "            return 8\n",
    "\n",
    "def x4(l):\n",
    "    if l[4] == 1975: \n",
    "        return 0\n",
    "    elif l[4] == 1970:\n",
    "        return 1\n",
    "    else:\n",
    "        return 2\n",
    "\n",
    "def x1(l, branch):\n",
    "    if l[1] == 'EC': \n",
    "        return 5\n",
    "    elif l[1] == 'STATA': \n",
    "        return 6\n",
    "    else:\n",
    "        return x3(l, branch)  # Передаем ветку 'METAL' дальше\n",
    "\n",
    "# Пример вызова\n",
    "arr = ['METAL', 'VALA', 1964, 1970, 1975]\n",
    "result = main(arr)\n",
    "print(\"Результат:\", result)\n",
    "\n",
    "arr2 = ['METAL', 'EC', 1964, 1977, 1970]\n",
    "result2 = main(arr2)\n",
    "print(\"Результат 2:\", result2)\n"
   ]
  },
  {
   "cell_type": "code",
   "execution_count": null,
   "metadata": {},
   "outputs": [],
   "source": [
    "def main(bits):\n",
    "    # Извлечение битовых полей из кортежа\n",
    "    K2 = int(bits[0])\n",
    "    K3 = int(bits[1])\n",
    "    K4 = int(bits[2])\n",
    "\n",
    "    # Объединение битовых полей в один 16-битный результат\n",
    "    result = (K4 << 26) | (K3 << 19) | (K2 << 10)\n",
    "\n",
    "    # Преобразование результата в шестнадцатеричную строку\n",
    "    hex_result = int(result)\n",
    "\n",
    "    return hex_result\n",
    "\n",
    "\n",
    "# Тесты\n",
    "print(main((263, 38, 3)))  # Ожидаемый результат: '0x123e'\n",
    "print(main(('7', '95', '1')))  # Ожидаемый результат: '0xaff'\n",
    "print(main(('5', '12', '0')))  # Ожидаемый результат: '0x65'\n",
    "print(main(('6', '4', '3')))  # Ожидаемый результат: '0x1826'"
   ]
  },
  {
   "cell_type": "code",
   "execution_count": null,
   "metadata": {},
   "outputs": [],
   "source": [
    "def extract_bit_field(value, start_bit, end_bit):\n",
    "    mask = (1 << (start_bit - end_bit + 1)) - 1\n",
    "    return (value >> end_bit) & mask\n",
    "\n",
    "def decode_fields(number):\n",
    "    fields = [\n",
    "        ('V6', extract_bit_field(number, 32, 29)),\n",
    "        ('V5', extract_bit_field(number, 28, 19)),\n",
    "        ('V4', extract_bit_field(number, 18, 17)),\n",
    "        ('V3', extract_bit_field(number, 16, 10)),\n",
    "        ('V2', extract_bit_field(number, 9, 7)),\n",
    "    ]\n",
    "    return [(name, str(value)) for name, value in fields]\n",
    "\n",
    "# Примеры тестов\n",
    "print(decode_fields(8121689593))  # [('V2', '6'), ('V3', '73'), ('V4', '3'), ('V5', '130'), ('V6', '15')]\n",
    "print(decode_fields(417850151))   # [('V2', '6'), ('V3', '120'), ('V4', '3'), ('V5', '796'), ('V6', '0')]\n",
    "print(decode_fields(356138858))   # [('V2', '6'), ('V3', '15'), ('V4', '1'), ('V5', '679'), ('V6', '0')]\n",
    "print(decode_fields(3628808986))  # [('V2', '6'), ('V3', '78'), ('V4', '1'), ('V5', '777'), ('V6', '6')]"
   ]
  },
  {
   "cell_type": "code",
   "execution_count": null,
   "metadata": {},
   "outputs": [],
   "source": [
    "def main(data):\n",
    "    z2 = (data >> 9) & 0xFF\n",
    "    z3 = (data >> 17) & 0x3F\n",
    "    z4 = data >> 23\n",
    "    result = {\n",
    "        'Z2': hex(z2),\n",
    "        'Z3': hex(z3),\n",
    "        'Z4': hex(z4)\n",
    "    }\n",
    "    return result\n",
    "\n",
    "# Примеры тестов\n",
    "print(main(1686864812))  # {'Z2': '0xc1', 'Z3': '0x5', 'Z4': '0xc9'}\n",
    "print(main(3118518009))  # {'Z2': '0x67', 'Z3': '0x30', 'Z4': '0x173'}\n",
    "print(main(2122082591))  # {'Z2': '0x34', 'Z3': '0x3e', 'Z4': '0xfc'}\n",
    "print(main(2896071282))  # {'Z2': '0x45', 'Z3': '0xf', 'Z4': '0x159'}"
   ]
  }
 ],
 "metadata": {
  "kernelspec": {
   "display_name": "Python 3",
   "language": "python",
   "name": "python3"
  },
  "language_info": {
   "codemirror_mode": {
    "name": "ipython",
    "version": 3
   },
   "file_extension": ".py",
   "mimetype": "text/x-python",
   "name": "python",
   "nbconvert_exporter": "python",
   "pygments_lexer": "ipython3",
   "version": "3.12.4"
  }
 },
 "nbformat": 4,
 "nbformat_minor": 2
}
